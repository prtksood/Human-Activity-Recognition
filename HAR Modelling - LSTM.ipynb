{
 "cells": [
  {
   "cell_type": "code",
   "execution_count": 1,
   "metadata": {},
   "outputs": [],
   "source": [
    "import pandas as pd\n",
    "import numpy as np\n",
    "import matplotlib.pyplot as plt"
   ]
  },
  {
   "cell_type": "code",
   "execution_count": 2,
   "metadata": {},
   "outputs": [],
   "source": [
    "# Activities are the class labels\n",
    "# It is a 6 class classification\n",
    "ACTIVITIES = {\n",
    "    0: 'WALKING',\n",
    "    1: 'WALKING_UPSTAIRS',\n",
    "    2: 'WALKING_DOWNSTAIRS',\n",
    "    3: 'SITTING',\n",
    "    4: 'STANDING',\n",
    "    5: 'LAYING',\n",
    "}\n",
    "\n",
    "# Utility function to print the confusion matrix\n",
    "def confusion_matrix(Y_true, Y_pred):\n",
    "    Y_true = pd.Series([ACTIVITIES[y] for y in np.argmax(Y_true, axis=1)])\n",
    "    Y_pred = pd.Series([ACTIVITIES[y] for y in np.argmax(Y_pred, axis=1)])\n",
    "\n",
    "    return pd.crosstab(Y_true, Y_pred, rownames=['True'], colnames=['Pred'])"
   ]
  },
  {
   "cell_type": "markdown",
   "metadata": {},
   "source": [
    "### Data"
   ]
  },
  {
   "cell_type": "code",
   "execution_count": 3,
   "metadata": {},
   "outputs": [],
   "source": [
    "# Data directory\n",
    "DATADIR = 'UCI_HAR_Dataset'"
   ]
  },
  {
   "cell_type": "code",
   "execution_count": 4,
   "metadata": {},
   "outputs": [],
   "source": [
    "# Raw data signals\n",
    "# Signals are from Accelerometer and Gyroscope\n",
    "# The signals are in x,y,z directions\n",
    "# Sensor signals are filtered to have only body acceleration\n",
    "# excluding the acceleration due to gravity\n",
    "# Triaxial acceleration from the accelerometer is total acceleration\n",
    "SIGNALS = [\n",
    "    \"body_acc_x\",\n",
    "    \"body_acc_y\",\n",
    "    \"body_acc_z\",\n",
    "    \"body_gyro_x\",\n",
    "    \"body_gyro_y\",\n",
    "    \"body_gyro_z\",\n",
    "    \"total_acc_x\",\n",
    "    \"total_acc_y\",\n",
    "    \"total_acc_z\"\n",
    "]"
   ]
  },
  {
   "cell_type": "code",
   "execution_count": 5,
   "metadata": {},
   "outputs": [],
   "source": [
    "# Utility function to read the data from csv file\n",
    "def _read_csv(filename):\n",
    "    return pd.read_csv(filename, delim_whitespace=True, header=None)\n",
    "\n",
    "# Utility function to load the data\n",
    "def load_signals(subset):\n",
    "    signals_data = []\n",
    "\n",
    "    for signal in SIGNALS:\n",
    "        filename = f'UCI_HAR_Dataset/{subset}/Inertial Signals/{signal}_{subset}.txt'\n",
    "        signals_data.append(\n",
    "            _read_csv(filename).as_matrix()\n",
    "        ) \n",
    "\n",
    "    # Transpose is used to change the dimensionality of the output,\n",
    "    # aggregating the signals by combination of sample/timestep.\n",
    "    # Resultant shape is (7352 train/2947 test samples, 128 timesteps, 9 signals)\n",
    "    return np.transpose(signals_data, (1, 2, 0))"
   ]
  },
  {
   "cell_type": "code",
   "execution_count": 6,
   "metadata": {},
   "outputs": [],
   "source": [
    "\n",
    "def load_y(subset):\n",
    "    \"\"\"\n",
    "    The objective that we are trying to predict is a integer, from 1 to 6,\n",
    "    that represents a human activity. We return a binary representation of \n",
    "    every sample objective as a 6 bits vector using One Hot Encoding\n",
    "    (https://pandas.pydata.org/pandas-docs/stable/generated/pandas.get_dummies.html)\n",
    "    \"\"\"\n",
    "    filename = f'UCI_HAR_Dataset/{subset}/y_{subset}.txt'\n",
    "    y = _read_csv(filename)[0]\n",
    "\n",
    "    return pd.get_dummies(y).as_matrix()"
   ]
  },
  {
   "cell_type": "code",
   "execution_count": 7,
   "metadata": {},
   "outputs": [],
   "source": [
    "def load_data():\n",
    "    \"\"\"\n",
    "    Obtain the dataset from multiple files.\n",
    "    Returns: X_train, X_test, y_train, y_test\n",
    "    \"\"\"\n",
    "    X_train, X_test = load_signals('train'), load_signals('test')\n",
    "    y_train, y_test = load_y('train'), load_y('test')\n",
    "\n",
    "    return X_train, X_test, y_train, y_test"
   ]
  },
  {
   "cell_type": "code",
   "execution_count": 11,
   "metadata": {},
   "outputs": [],
   "source": [
    "# Importing libraries\n",
    "from keras.models import Sequential\n",
    "from keras.layers import LSTM\n",
    "from keras.layers.core import Dense, Dropout"
   ]
  },
  {
   "cell_type": "code",
   "execution_count": 13,
   "metadata": {},
   "outputs": [],
   "source": [
    "# Initializing parameters\n",
    "epochs = 30\n",
    "batch_size = 16\n",
    "n_hidden = 32"
   ]
  },
  {
   "cell_type": "code",
   "execution_count": 12,
   "metadata": {},
   "outputs": [],
   "source": [
    "# Utility function to count the number of classes\n",
    "def _count_classes(y):\n",
    "    return len(set([tuple(category) for category in y]))"
   ]
  },
  {
   "cell_type": "code",
   "execution_count": 13,
   "metadata": {},
   "outputs": [
    {
     "name": "stderr",
     "output_type": "stream",
     "text": [
      "C:\\Users\\prateeksood\\AppData\\Local\\Continuum\\anaconda3\\lib\\site-packages\\ipykernel_launcher.py:12: FutureWarning: Method .as_matrix will be removed in a future version. Use .values instead.\n",
      "  if sys.path[0] == '':\n"
     ]
    }
   ],
   "source": [
    "# Loading the train and test data\n",
    "X_train, X_test, Y_train, Y_test = load_data()"
   ]
  },
  {
   "cell_type": "code",
   "execution_count": 19,
   "metadata": {},
   "outputs": [
    {
     "name": "stdout",
     "output_type": "stream",
     "text": [
      "128\n",
      "9\n",
      "7352\n"
     ]
    }
   ],
   "source": [
    "timesteps = len(X_train[0])\n",
    "input_dim = len(X_train[0][0])\n",
    "n_classes = _count_classes(Y_train)\n",
    "\n",
    "print(timesteps)\n",
    "print(input_dim)\n",
    "print(len(X_train))"
   ]
  },
  {
   "cell_type": "markdown",
   "metadata": {},
   "source": [
    "### 1.1 Defining the Architecture of LSTM (without hyper-parameter tuning)"
   ]
  },
  {
   "cell_type": "code",
   "execution_count": 24,
   "metadata": {},
   "outputs": [
    {
     "name": "stdout",
     "output_type": "stream",
     "text": [
      "_________________________________________________________________\n",
      "Layer (type)                 Output Shape              Param #   \n",
      "=================================================================\n",
      "lstm_1 (LSTM)                (None, 32)                5376      \n",
      "_________________________________________________________________\n",
      "dropout_1 (Dropout)          (None, 32)                0         \n",
      "_________________________________________________________________\n",
      "dense_1 (Dense)              (None, 6)                 198       \n",
      "=================================================================\n",
      "Total params: 5,574\n",
      "Trainable params: 5,574\n",
      "Non-trainable params: 0\n",
      "_________________________________________________________________\n"
     ]
    }
   ],
   "source": [
    "# Initiliazing the sequential model\n",
    "model = Sequential()\n",
    "# Configuring the parameters\n",
    "model.add(LSTM(units = n_hidden, input_shape=(timesteps, input_dim)))\n",
    "# Adding a dropout layer\n",
    "model.add(Dropout(0.5))\n",
    "# Adding a dense output layer with sigmoid activation\n",
    "model.add(Dense(n_classes, activation='sigmoid'))\n",
    "model.summary()"
   ]
  },
  {
   "cell_type": "code",
   "execution_count": 22,
   "metadata": {
    "collapsed": true
   },
   "outputs": [],
   "source": [
    "# Compiling the model\n",
    "model.compile(loss='categorical_crossentropy',\n",
    "              optimizer='rmsprop',\n",
    "              metrics=['accuracy'])"
   ]
  },
  {
   "cell_type": "markdown",
   "metadata": {},
   "source": [
    "### 1.2 Training the model"
   ]
  },
  {
   "cell_type": "code",
   "execution_count": 23,
   "metadata": {},
   "outputs": [
    {
     "name": "stdout",
     "output_type": "stream",
     "text": [
      "Train on 7352 samples, validate on 2947 samples\n",
      "Epoch 1/30\n",
      "7352/7352 [==============================] - 92s 13ms/step - loss: 1.3018 - acc: 0.4395 - val_loss: 1.1254 - val_acc: 0.4662\n",
      "Epoch 2/30\n",
      "7352/7352 [==============================] - 94s 13ms/step - loss: 0.9666 - acc: 0.5880 - val_loss: 0.9491 - val_acc: 0.5714\n",
      "Epoch 3/30\n",
      "7352/7352 [==============================] - 97s 13ms/step - loss: 0.7812 - acc: 0.6408 - val_loss: 0.8286 - val_acc: 0.5850\n",
      "Epoch 4/30\n",
      "7352/7352 [==============================] - 95s 13ms/step - loss: 0.6941 - acc: 0.6574 - val_loss: 0.7297 - val_acc: 0.6128\n",
      "Epoch 5/30\n",
      "7352/7352 [==============================] - 92s 13ms/step - loss: 0.6336 - acc: 0.6912 - val_loss: 0.7359 - val_acc: 0.6787\n",
      "Epoch 6/30\n",
      "7352/7352 [==============================] - 94s 13ms/step - loss: 0.5859 - acc: 0.7134 - val_loss: 0.7015 - val_acc: 0.6939\n",
      "Epoch 7/30\n",
      "7352/7352 [==============================] - 95s 13ms/step - loss: 0.5692 - acc: 0.7477 - val_loss: 0.5995 - val_acc: 0.7387\n",
      "Epoch 8/30\n",
      "7352/7352 [==============================] - 96s 13ms/step - loss: 0.4899 - acc: 0.7809 - val_loss: 0.5762 - val_acc: 0.7387\n",
      "Epoch 9/30\n",
      "7352/7352 [==============================] - 90s 12ms/step - loss: 0.4482 - acc: 0.7886 - val_loss: 0.7413 - val_acc: 0.7126\n",
      "Epoch 10/30\n",
      "7352/7352 [==============================] - 90s 12ms/step - loss: 0.4132 - acc: 0.8077 - val_loss: 0.5048 - val_acc: 0.7513\n",
      "Epoch 11/30\n",
      "7352/7352 [==============================] - 89s 12ms/step - loss: 0.3985 - acc: 0.8274 - val_loss: 0.5234 - val_acc: 0.7452\n",
      "Epoch 12/30\n",
      "7352/7352 [==============================] - 91s 12ms/step - loss: 0.3378 - acc: 0.8638 - val_loss: 0.4114 - val_acc: 0.8833\n",
      "Epoch 13/30\n",
      "7352/7352 [==============================] - 91s 12ms/step - loss: 0.2947 - acc: 0.9051 - val_loss: 0.4386 - val_acc: 0.8731\n",
      "Epoch 14/30\n",
      "7352/7352 [==============================] - 90s 12ms/step - loss: 0.2448 - acc: 0.9291 - val_loss: 0.3768 - val_acc: 0.8921\n",
      "Epoch 15/30\n",
      "7352/7352 [==============================] - 91s 12ms/step - loss: 0.2157 - acc: 0.9331 - val_loss: 0.4441 - val_acc: 0.8931\n",
      "Epoch 16/30\n",
      "7352/7352 [==============================] - 90s 12ms/step - loss: 0.2053 - acc: 0.9366 - val_loss: 0.4162 - val_acc: 0.8968\n",
      "Epoch 17/30\n",
      "7352/7352 [==============================] - 89s 12ms/step - loss: 0.2028 - acc: 0.9404 - val_loss: 0.4538 - val_acc: 0.8962\n",
      "Epoch 18/30\n",
      "7352/7352 [==============================] - 93s 13ms/step - loss: 0.1911 - acc: 0.9419 - val_loss: 0.3964 - val_acc: 0.8999\n",
      "Epoch 19/30\n",
      "7352/7352 [==============================] - 96s 13ms/step - loss: 0.1912 - acc: 0.9407 - val_loss: 0.3165 - val_acc: 0.9030\n",
      "Epoch 20/30\n",
      "7352/7352 [==============================] - 96s 13ms/step - loss: 0.1732 - acc: 0.9446 - val_loss: 0.4546 - val_acc: 0.8904\n",
      "Epoch 21/30\n",
      "7352/7352 [==============================] - 94s 13ms/step - loss: 0.1782 - acc: 0.9444 - val_loss: 0.3346 - val_acc: 0.9063\n",
      "Epoch 22/30\n",
      "7352/7352 [==============================] - 95s 13ms/step - loss: 0.1812 - acc: 0.9418 - val_loss: 0.8164 - val_acc: 0.8582\n",
      "Epoch 23/30\n",
      "7352/7352 [==============================] - 95s 13ms/step - loss: 0.1824 - acc: 0.9426 - val_loss: 0.4240 - val_acc: 0.9036\n",
      "Epoch 24/30\n",
      "7352/7352 [==============================] - 94s 13ms/step - loss: 0.1726 - acc: 0.9429 - val_loss: 0.4067 - val_acc: 0.9148\n",
      "Epoch 25/30\n",
      "7352/7352 [==============================] - 96s 13ms/step - loss: 0.1737 - acc: 0.9411 - val_loss: 0.3396 - val_acc: 0.9074\n",
      "Epoch 26/30\n",
      "7352/7352 [==============================] - 96s 13ms/step - loss: 0.1650 - acc: 0.9461 - val_loss: 0.3806 - val_acc: 0.9019\n",
      "Epoch 27/30\n",
      "7352/7352 [==============================] - 89s 12ms/step - loss: 0.1925 - acc: 0.9415 - val_loss: 0.6464 - val_acc: 0.8850\n",
      "Epoch 28/30\n",
      "7352/7352 [==============================] - 91s 12ms/step - loss: 0.1965 - acc: 0.9425 - val_loss: 0.3363 - val_acc: 0.9203\n",
      "Epoch 29/30\n",
      "7352/7352 [==============================] - 92s 12ms/step - loss: 0.1889 - acc: 0.9431 - val_loss: 0.3737 - val_acc: 0.9158\n",
      "Epoch 30/30\n",
      "7352/7352 [==============================] - 95s 13ms/step - loss: 0.1945 - acc: 0.9414 - val_loss: 0.3088 - val_acc: 0.9097\n"
     ]
    },
    {
     "data": {
      "text/plain": [
       "<keras.callbacks.History at 0x29b5ee36a20>"
      ]
     },
     "execution_count": 23,
     "metadata": {},
     "output_type": "execute_result"
    }
   ],
   "source": [
    "# Training the model\n",
    "model.fit(X_train,\n",
    "          Y_train,\n",
    "          batch_size=batch_size,\n",
    "          validation_data=(X_test, Y_test),\n",
    "          epochs=epochs)"
   ]
  },
  {
   "cell_type": "code",
   "execution_count": 24,
   "metadata": {
    "scrolled": true
   },
   "outputs": [
    {
     "name": "stdout",
     "output_type": "stream",
     "text": [
      "Pred                LAYING  SITTING  STANDING  WALKING  WALKING_DOWNSTAIRS  \\\n",
      "True                                                                         \n",
      "LAYING                 512        0        25        0                   0   \n",
      "SITTING                  3      410        75        0                   0   \n",
      "STANDING                 0       87       445        0                   0   \n",
      "WALKING                  0        0         0      481                   2   \n",
      "WALKING_DOWNSTAIRS       0        0         0        0                 382   \n",
      "WALKING_UPSTAIRS         0        0         0        2                  18   \n",
      "\n",
      "Pred                WALKING_UPSTAIRS  \n",
      "True                                  \n",
      "LAYING                             0  \n",
      "SITTING                            3  \n",
      "STANDING                           0  \n",
      "WALKING                           13  \n",
      "WALKING_DOWNSTAIRS                38  \n",
      "WALKING_UPSTAIRS                 451  \n"
     ]
    }
   ],
   "source": [
    "# Confusion Matrix\n",
    "print(confusion_matrix(Y_test, model.predict(X_test)))"
   ]
  },
  {
   "cell_type": "code",
   "execution_count": 27,
   "metadata": {},
   "outputs": [
    {
     "name": "stdout",
     "output_type": "stream",
     "text": [
      "2947/2947 [==============================] - 4s 2ms/step\n"
     ]
    }
   ],
   "source": [
    "score = model.evaluate(X_test, Y_test)"
   ]
  },
  {
   "cell_type": "code",
   "execution_count": 28,
   "metadata": {},
   "outputs": [
    {
     "data": {
      "text/plain": [
       "[0.3087582236972612, 0.9097387173396675]"
      ]
     },
     "execution_count": 28,
     "metadata": {},
     "output_type": "execute_result"
    }
   ],
   "source": [
    "score"
   ]
  },
  {
   "cell_type": "markdown",
   "metadata": {},
   "source": [
    "- With a simple 2 layer architecture we got 90.09% accuracy and a loss of 0.30\n",
    "- We can try to further imporve the performace with Hyperparameter tuning"
   ]
  },
  {
   "cell_type": "markdown",
   "metadata": {},
   "source": [
    "### 2.1 Hyper-Parameter Tuning for LSTM Units"
   ]
  },
  {
   "cell_type": "code",
   "execution_count": 17,
   "metadata": {},
   "outputs": [],
   "source": [
    "def create_model(units=8):\n",
    "    model = Sequential()\n",
    "    model.add(LSTM(units, input_shape=(timesteps, input_dim)))\n",
    "    model.add(Dropout(0.5))\n",
    "    model.add(Dense(n_classes, activation='sigmoid'))\n",
    "    model.compile(loss='categorical_crossentropy',\n",
    "                  optimizer='rmsprop',\n",
    "                  metrics=['accuracy'])  \n",
    "    return model"
   ]
  },
  {
   "cell_type": "code",
   "execution_count": 14,
   "metadata": {},
   "outputs": [],
   "source": [
    "# Utility function to report best scores\n",
    "#reference: https://scikit-learn.org/stable/auto_examples/model_selection/plot_randomized_search.html\n",
    "def report(results, n_top=5):\n",
    "    for i in range(1, n_top + 1):\n",
    "        candidates = np.flatnonzero(results['rank_test_score'] == i)\n",
    "        for candidate in candidates:\n",
    "            print(\"Model with rank: {0}\".format(i))\n",
    "            print(\"Mean validation score: {0:.3f} (std: {1:.3f})\".format(\n",
    "                  results['mean_test_score'][candidate],\n",
    "                  results['std_test_score'][candidate]))\n",
    "            print(\"Parameters: {0}\".format(results['params'][candidate]))\n",
    "            print(\"\")"
   ]
  },
  {
   "cell_type": "code",
   "execution_count": 15,
   "metadata": {},
   "outputs": [],
   "source": [
    "#Reference: https://stackoverflow.com/questions/41908379/keras-plot-training-validation-and-test-set-accuracy\n",
    "# \"Plot train and validation loss\"\n",
    "def PlotLoss(hist):\n",
    "    plt.plot(hist.history['loss'])\n",
    "    plt.plot(hist.history['val_loss'])\n",
    "    plt.title('model loss')\n",
    "    plt.ylabel('loss')\n",
    "    plt.xlabel('epoch')\n",
    "    plt.legend(['train', 'validation'], loc='best')\n",
    "    plt.show()"
   ]
  },
  {
   "cell_type": "code",
   "execution_count": 35,
   "metadata": {},
   "outputs": [
    {
     "name": "stdout",
     "output_type": "stream",
     "text": [
      "Fitting 3 folds for each of 5 candidates, totalling 15 fits\n"
     ]
    },
    {
     "name": "stderr",
     "output_type": "stream",
     "text": [
      "[Parallel(n_jobs=1)]: Using backend SequentialBackend with 1 concurrent workers.\n",
      "[Parallel(n_jobs=1)]: Done  15 out of  15 | elapsed: 150.9min finished\n"
     ]
    },
    {
     "name": "stdout",
     "output_type": "stream",
     "text": [
      "GridSearchCV took 10129.99 seconds for 5 candidate parameter settings.\n",
      "Model with rank: 1\n",
      "Mean validation score: 0.923 (std: 0.020)\n",
      "Parameters: {'units': 64}\n",
      "\n",
      "Model with rank: 2\n",
      "Mean validation score: 0.908 (std: 0.016)\n",
      "Parameters: {'units': 32}\n",
      "\n",
      "Model with rank: 3\n",
      "Mean validation score: 0.886 (std: 0.040)\n",
      "Parameters: {'units': 48}\n",
      "\n",
      "Model with rank: 4\n",
      "Mean validation score: 0.760 (std: 0.088)\n",
      "Parameters: {'units': 16}\n",
      "\n",
      "Model with rank: 5\n",
      "Mean validation score: 0.661 (std: 0.051)\n",
      "Parameters: {'units': 8}\n",
      "\n"
     ]
    }
   ],
   "source": [
    "from time import time\n",
    "units = [8,16,32,48,64]\n",
    "\n",
    "from keras.wrappers.scikit_learn import KerasClassifier\n",
    "from sklearn.model_selection import GridSearchCV\n",
    "\n",
    "model = KerasClassifier(build_fn=create_model, epochs=epochs, batch_size=batch_size, verbose=0)\n",
    "param_grid = dict(units=units)\n",
    "grid = GridSearchCV(estimator=model, param_grid=param_grid, cv = 3,  verbose = 1)\n",
    "start = time()\n",
    "grid_result = grid.fit(X_train, Y_train)\n",
    "print(\"GridSearchCV took %.2f seconds for %d candidate parameter settings.\"\n",
    "      % (time() - start, len(grid.cv_results_['params'])))\n",
    "report(grid.cv_results_)"
   ]
  },
  {
   "cell_type": "code",
   "execution_count": 21,
   "metadata": {},
   "outputs": [],
   "source": [
    "#now test model with best LSTM units no\n",
    "epochs = 30\n",
    "batch_size = 16\n",
    "n_hidden = 64"
   ]
  },
  {
   "cell_type": "code",
   "execution_count": 20,
   "metadata": {},
   "outputs": [
    {
     "name": "stdout",
     "output_type": "stream",
     "text": [
      "_________________________________________________________________\n",
      "Layer (type)                 Output Shape              Param #   \n",
      "=================================================================\n",
      "lstm_1 (LSTM)                (None, 32)                5376      \n",
      "_________________________________________________________________\n",
      "dropout_1 (Dropout)          (None, 32)                0         \n",
      "_________________________________________________________________\n",
      "dense_1 (Dense)              (None, 6)                 198       \n",
      "=================================================================\n",
      "Total params: 5,574\n",
      "Trainable params: 5,574\n",
      "Non-trainable params: 0\n",
      "_________________________________________________________________\n"
     ]
    }
   ],
   "source": [
    "# Initiliazing the sequential model\n",
    "model = Sequential()\n",
    "# Configuring the parameters\n",
    "model.add(LSTM(units = n_hidden, input_shape=(timesteps, input_dim)))\n",
    "# Adding a dropout layer\n",
    "model.add(Dropout(0.5))\n",
    "# Adding a dense output layer with sigmoid activation\n",
    "model.add(Dense(n_classes, activation='sigmoid'))\n",
    "model.summary()"
   ]
  },
  {
   "cell_type": "code",
   "execution_count": 22,
   "metadata": {},
   "outputs": [],
   "source": [
    "# Compiling the model\n",
    "model.compile(loss='categorical_crossentropy',\n",
    "              optimizer='rmsprop',\n",
    "              metrics=['accuracy'])"
   ]
  },
  {
   "cell_type": "markdown",
   "metadata": {},
   "source": [
    "### 2.2 Training the model with tuned no of LSTM units"
   ]
  },
  {
   "cell_type": "code",
   "execution_count": 23,
   "metadata": {},
   "outputs": [
    {
     "name": "stdout",
     "output_type": "stream",
     "text": [
      "Train on 7352 samples, validate on 2947 samples\n",
      "Epoch 1/30\n",
      "7352/7352 [==============================] - 34s 5ms/step - loss: 1.3220 - acc: 0.4294 - val_loss: 1.1582 - val_acc: 0.4673\n",
      "Epoch 2/30\n",
      "7352/7352 [==============================] - 33s 4ms/step - loss: 0.9982 - acc: 0.5690 - val_loss: 0.9342 - val_acc: 0.5898\n",
      "Epoch 3/30\n",
      "7352/7352 [==============================] - 34s 5ms/step - loss: 0.8056 - acc: 0.6434 - val_loss: 0.7617 - val_acc: 0.6101\n",
      "Epoch 4/30\n",
      "7352/7352 [==============================] - 34s 5ms/step - loss: 0.7199 - acc: 0.6523 - val_loss: 0.7468 - val_acc: 0.6206\n",
      "Epoch 5/30\n",
      "7352/7352 [==============================] - 33s 5ms/step - loss: 0.6646 - acc: 0.6691 - val_loss: 0.7212 - val_acc: 0.6301\n",
      "Epoch 6/30\n",
      "7352/7352 [==============================] - 34s 5ms/step - loss: 0.6324 - acc: 0.6806 - val_loss: 0.7913 - val_acc: 0.6437\n",
      "Epoch 7/30\n",
      "7352/7352 [==============================] - 34s 5ms/step - loss: 0.6815 - acc: 0.6737 - val_loss: 0.7873 - val_acc: 0.5935\n",
      "Epoch 8/30\n",
      "7352/7352 [==============================] - 35s 5ms/step - loss: 0.6133 - acc: 0.6906 - val_loss: 0.6923 - val_acc: 0.6610\n",
      "Epoch 9/30\n",
      "7352/7352 [==============================] - 34s 5ms/step - loss: 0.5824 - acc: 0.7236 - val_loss: 0.6951 - val_acc: 0.7228\n",
      "Epoch 10/30\n",
      "7352/7352 [==============================] - 33s 4ms/step - loss: 0.5617 - acc: 0.7398 - val_loss: 0.6585 - val_acc: 0.7265\n",
      "Epoch 11/30\n",
      "7352/7352 [==============================] - 34s 5ms/step - loss: 0.5056 - acc: 0.7708 - val_loss: 0.6108 - val_acc: 0.7370\n",
      "Epoch 12/30\n",
      "7352/7352 [==============================] - 35s 5ms/step - loss: 0.5110 - acc: 0.7752 - val_loss: 0.6141 - val_acc: 0.7306\n",
      "Epoch 13/30\n",
      "7352/7352 [==============================] - 35s 5ms/step - loss: 0.4494 - acc: 0.7858 - val_loss: 0.5600 - val_acc: 0.7523\n",
      "Epoch 14/30\n",
      "7352/7352 [==============================] - 36s 5ms/step - loss: 0.4265 - acc: 0.7988 - val_loss: 0.6391 - val_acc: 0.7414\n",
      "Epoch 15/30\n",
      "7352/7352 [==============================] - 34s 5ms/step - loss: 0.3832 - acc: 0.8266 - val_loss: 0.6526 - val_acc: 0.7248\n",
      "Epoch 16/30\n",
      "7352/7352 [==============================] - 33s 5ms/step - loss: 0.3577 - acc: 0.8532 - val_loss: 0.4552 - val_acc: 0.8683\n",
      "Epoch 17/30\n",
      "7352/7352 [==============================] - 37s 5ms/step - loss: 0.3108 - acc: 0.8987 - val_loss: 0.4645 - val_acc: 0.8704\n",
      "Epoch 18/30\n",
      "7352/7352 [==============================] - 34s 5ms/step - loss: 0.2804 - acc: 0.9219 - val_loss: 0.3856 - val_acc: 0.8850\n",
      "Epoch 19/30\n",
      "7352/7352 [==============================] - 35s 5ms/step - loss: 0.2406 - acc: 0.9278 - val_loss: 0.4450 - val_acc: 0.8809\n",
      "Epoch 20/30\n",
      "7352/7352 [==============================] - 34s 5ms/step - loss: 0.2508 - acc: 0.9293 - val_loss: 0.4273 - val_acc: 0.8846\n",
      "Epoch 21/30\n",
      "7352/7352 [==============================] - 36s 5ms/step - loss: 0.2632 - acc: 0.9244 - val_loss: 0.3877 - val_acc: 0.8904\n",
      "Epoch 22/30\n",
      "7352/7352 [==============================] - 34s 5ms/step - loss: 0.2007 - acc: 0.9395 - val_loss: 0.4720 - val_acc: 0.8653\n",
      "Epoch 23/30\n",
      "7352/7352 [==============================] - 33s 4ms/step - loss: 0.1826 - acc: 0.9410 - val_loss: 0.3199 - val_acc: 0.8928\n",
      "Epoch 24/30\n",
      "7352/7352 [==============================] - 34s 5ms/step - loss: 0.1976 - acc: 0.9396 - val_loss: 0.3654 - val_acc: 0.9087\n",
      "Epoch 25/30\n",
      "7352/7352 [==============================] - 34s 5ms/step - loss: 0.1922 - acc: 0.9404 - val_loss: 0.4763 - val_acc: 0.8795\n",
      "Epoch 26/30\n",
      "7352/7352 [==============================] - 32s 4ms/step - loss: 0.2341 - acc: 0.9396 - val_loss: 0.2872 - val_acc: 0.9084\n",
      "Epoch 27/30\n",
      "7352/7352 [==============================] - 34s 5ms/step - loss: 0.1761 - acc: 0.9430 - val_loss: 0.4083 - val_acc: 0.8856\n",
      "Epoch 28/30\n",
      "7352/7352 [==============================] - 34s 5ms/step - loss: 0.1674 - acc: 0.9460 - val_loss: 0.3133 - val_acc: 0.9131\n",
      "Epoch 29/30\n",
      "7352/7352 [==============================] - 35s 5ms/step - loss: 0.1616 - acc: 0.9475 - val_loss: 0.2737 - val_acc: 0.9220\n",
      "Epoch 30/30\n",
      "7352/7352 [==============================] - 35s 5ms/step - loss: 0.1575 - acc: 0.9486 - val_loss: 0.3764 - val_acc: 0.8965\n"
     ]
    }
   ],
   "source": [
    "# Training the model\n",
    "history = model.fit(X_train,\n",
    "          Y_train,\n",
    "          batch_size=batch_size,\n",
    "          validation_data=(X_test, Y_test),\n",
    "          epochs=epochs)"
   ]
  },
  {
   "cell_type": "code",
   "execution_count": 24,
   "metadata": {},
   "outputs": [
    {
     "data": {
      "image/png": "[encoded data removed]",
      "text/plain": [
       "<Figure size 432x288 with 1 Axes>"
      ]
     },
     "metadata": {},
     "output_type": "display_data"
    }
   ],
   "source": [
    "#plot train and validation loss for each epoch\n",
    "PlotLoss(history)"
   ]
  },
  {
   "cell_type": "code",
   "execution_count": 25,
   "metadata": {
    "scrolled": true
   },
   "outputs": [
    {
     "name": "stdout",
     "output_type": "stream",
     "text": [
      "Pred                LAYING  SITTING  STANDING  WALKING  WALKING_DOWNSTAIRS  \\\n",
      "True                                                                         \n",
      "LAYING                 537        0         0        0                   0   \n",
      "SITTING                  0      421        68        0                   0   \n",
      "STANDING                 0      137       395        0                   0   \n",
      "WALKING                  0        0         0      420                  31   \n",
      "WALKING_DOWNSTAIRS       0        0         0        0                 408   \n",
      "WALKING_UPSTAIRS         0        1         0        0                   9   \n",
      "\n",
      "Pred                WALKING_UPSTAIRS  \n",
      "True                                  \n",
      "LAYING                             0  \n",
      "SITTING                            2  \n",
      "STANDING                           0  \n",
      "WALKING                           45  \n",
      "WALKING_DOWNSTAIRS                12  \n",
      "WALKING_UPSTAIRS                 461  \n"
     ]
    }
   ],
   "source": [
    "# Confusion Matrix\n",
    "print(confusion_matrix(Y_test, model.predict(X_test)))"
   ]
  },
  {
   "cell_type": "code",
   "execution_count": 26,
   "metadata": {},
   "outputs": [
    {
     "name": "stdout",
     "output_type": "stream",
     "text": [
      "2947/2947 [==============================] - 1s 496us/step\n"
     ]
    },
    {
     "data": {
      "text/plain": [
       "[0.3764044049231972, 0.8965049202578894]"
      ]
     },
     "execution_count": 26,
     "metadata": {},
     "output_type": "execute_result"
    }
   ],
   "source": [
    "score = model.evaluate(X_test, Y_test)\n",
    "score"
   ]
  },
  {
   "cell_type": "markdown",
   "metadata": {},
   "source": [
    "### 3.1 Hyper-Parameter Tuning for Dropout rate"
   ]
  },
  {
   "cell_type": "code",
   "execution_count": 16,
   "metadata": {},
   "outputs": [],
   "source": [
    "def create_model_dropout(dropout_rate=0.0):\n",
    "    model = Sequential()\n",
    "    model.add(LSTM(32, input_shape=(timesteps, input_dim)))\n",
    "    model.add(Dropout(dropout_rate))\n",
    "    model.add(Dense(n_classes, activation='sigmoid'))\n",
    "    model.compile(loss='categorical_crossentropy',\n",
    "                  optimizer='adam',\n",
    "                  metrics=['accuracy'])  \n",
    "    return model"
   ]
  },
  {
   "cell_type": "code",
   "execution_count": 31,
   "metadata": {},
   "outputs": [
    {
     "name": "stdout",
     "output_type": "stream",
     "text": [
      "Model with rank: 1\n",
      "Mean validation score: 0.905 (std: 0.021)\n",
      "Parameters: {'dropout_rate': 0.0}\n",
      "\n",
      "Model with rank: 2\n",
      "Mean validation score: 0.831 (std: 0.028)\n",
      "Parameters: {'dropout_rate': 0.4}\n",
      "\n",
      "Model with rank: 3\n",
      "Mean validation score: 0.823 (std: 0.108)\n",
      "Parameters: {'dropout_rate': 0.3}\n",
      "\n",
      "Model with rank: 4\n",
      "Mean validation score: 0.814 (std: 0.135)\n",
      "Parameters: {'dropout_rate': 0.1}\n",
      "\n",
      "Model with rank: 5\n",
      "Mean validation score: 0.808 (std: 0.129)\n",
      "Parameters: {'dropout_rate': 0.2}\n",
      "\n"
     ]
    }
   ],
   "source": [
    "from time import time\n",
    "dropout_rate = [0.0, 0.1, 0.2, 0.3, 0.4, 0.5, 0.6, 0.7, 0.8, 0.9]\n",
    "\n",
    "from keras.wrappers.scikit_learn import KerasClassifier\n",
    "from sklearn.model_selection import GridSearchCV\n",
    "\n",
    "model = KerasClassifier(build_fn=create_model_dropout, epochs=epochs, batch_size=batch_size, verbose=0)\n",
    "param_grid = dict(dropout_rate=dropout_rate)\n",
    "grid = GridSearchCV(estimator=model, param_grid=param_grid, cv = 3,  verbose = 0)\n",
    "start = time()\n",
    "grid_result = grid.fit(X_train, Y_train)\n",
    "#print(\"GridSearchCV took %.2f seconds for %d candidate parameter settings.\"\n",
    "      #% (time() - start, len(grid.cv_results_['params'])))\n",
    "report(grid.cv_results_)"
   ]
  },
  {
   "cell_type": "code",
   "execution_count": 28,
   "metadata": {},
   "outputs": [],
   "source": [
    "#now test model with best dropout rate\n",
    "epochs = 30\n",
    "batch_size = 16\n",
    "n_hidden = 32\n",
    "#dropout_rate = grid.best_params_.get('dropout_rate') #best dropout rate=0 here which means no dropout\n",
    "dropout_rate = 0 #best dropout rate=0 here which means no dropout"
   ]
  },
  {
   "cell_type": "code",
   "execution_count": 29,
   "metadata": {},
   "outputs": [
    {
     "name": "stdout",
     "output_type": "stream",
     "text": [
      "_________________________________________________________________\n",
      "Layer (type)                 Output Shape              Param #   \n",
      "=================================================================\n",
      "lstm_2 (LSTM)                (None, 32)                5376      \n",
      "_________________________________________________________________\n",
      "dropout_2 (Dropout)          (None, 32)                0         \n",
      "_________________________________________________________________\n",
      "dense_2 (Dense)              (None, 6)                 198       \n",
      "=================================================================\n",
      "Total params: 5,574\n",
      "Trainable params: 5,574\n",
      "Non-trainable params: 0\n",
      "_________________________________________________________________\n"
     ]
    }
   ],
   "source": [
    "# Initiliazing the sequential model\n",
    "model = Sequential()\n",
    "# Configuring the parameters\n",
    "model.add(LSTM(units = n_hidden, input_shape=(timesteps, input_dim)))\n",
    "# Adding a dropout layer\n",
    "model.add(Dropout(dropout_rate))\n",
    "# Adding a dense output layer with sigmoid activation\n",
    "model.add(Dense(n_classes, activation='sigmoid'))\n",
    "model.summary()"
   ]
  },
  {
   "cell_type": "code",
   "execution_count": 30,
   "metadata": {},
   "outputs": [],
   "source": [
    "# Compiling the model\n",
    "model.compile(loss='categorical_crossentropy',\n",
    "              optimizer='adam',\n",
    "              metrics=['accuracy'])"
   ]
  },
  {
   "cell_type": "markdown",
   "metadata": {},
   "source": [
    "### 3.2 Training the model with tuned drop-out rate"
   ]
  },
  {
   "cell_type": "code",
   "execution_count": 31,
   "metadata": {},
   "outputs": [
    {
     "name": "stdout",
     "output_type": "stream",
     "text": [
      "Train on 7352 samples, validate on 2947 samples\n",
      "Epoch 1/30\n",
      "7352/7352 [==============================] - 40s 5ms/step - loss: 1.3799 - acc: 0.3991 - val_loss: 1.3432 - val_acc: 0.4062\n",
      "Epoch 2/30\n",
      "7352/7352 [==============================] - 38s 5ms/step - loss: 1.2257 - acc: 0.4436 - val_loss: 1.1758 - val_acc: 0.4788\n",
      "Epoch 3/30\n",
      "7352/7352 [==============================] - 37s 5ms/step - loss: 1.0622 - acc: 0.5250 - val_loss: 1.1087 - val_acc: 0.4690\n",
      "Epoch 4/30\n",
      "7352/7352 [==============================] - 33s 5ms/step - loss: 0.9091 - acc: 0.5917 - val_loss: 0.8626 - val_acc: 0.5887\n",
      "Epoch 5/30\n",
      "7352/7352 [==============================] - 35s 5ms/step - loss: 0.6878 - acc: 0.6753 - val_loss: 0.7019 - val_acc: 0.6468\n",
      "Epoch 6/30\n",
      "7352/7352 [==============================] - 36s 5ms/step - loss: 0.6003 - acc: 0.7515 - val_loss: 0.6141 - val_acc: 0.7475\n",
      "Epoch 7/30\n",
      "7352/7352 [==============================] - 35s 5ms/step - loss: 0.5375 - acc: 0.8239 - val_loss: 0.6639 - val_acc: 0.7930\n",
      "Epoch 8/30\n",
      "7352/7352 [==============================] - 36s 5ms/step - loss: 0.3684 - acc: 0.8923 - val_loss: 0.6638 - val_acc: 0.7818\n",
      "Epoch 9/30\n",
      "7352/7352 [==============================] - 35s 5ms/step - loss: 0.2913 - acc: 0.9093 - val_loss: 0.4186 - val_acc: 0.8531\n",
      "Epoch 10/30\n",
      "7352/7352 [==============================] - 35s 5ms/step - loss: 0.2488 - acc: 0.9158 - val_loss: 0.4385 - val_acc: 0.8717\n",
      "Epoch 11/30\n",
      "7352/7352 [==============================] - 36s 5ms/step - loss: 0.2162 - acc: 0.9339 - val_loss: 0.3667 - val_acc: 0.8690\n",
      "Epoch 12/30\n",
      "7352/7352 [==============================] - 35s 5ms/step - loss: 0.1792 - acc: 0.9395 - val_loss: 0.3067 - val_acc: 0.8935\n",
      "Epoch 13/30\n",
      "7352/7352 [==============================] - 34s 5ms/step - loss: 0.1663 - acc: 0.9411 - val_loss: 0.3424 - val_acc: 0.8799\n",
      "Epoch 14/30\n",
      "7352/7352 [==============================] - 38s 5ms/step - loss: 0.1648 - acc: 0.9412 - val_loss: 0.3570 - val_acc: 0.8738\n",
      "Epoch 15/30\n",
      "7352/7352 [==============================] - 35s 5ms/step - loss: 0.1646 - acc: 0.9393 - val_loss: 0.3302 - val_acc: 0.8738\n",
      "Epoch 16/30\n",
      "7352/7352 [==============================] - 40s 5ms/step - loss: 0.1497 - acc: 0.9444 - val_loss: 0.3446 - val_acc: 0.8792\n",
      "Epoch 17/30\n",
      "7352/7352 [==============================] - 38s 5ms/step - loss: 0.1559 - acc: 0.9406 - val_loss: 0.3005 - val_acc: 0.8918\n",
      "Epoch 18/30\n",
      "7352/7352 [==============================] - 36s 5ms/step - loss: 0.1624 - acc: 0.9431 - val_loss: 0.2993 - val_acc: 0.8965\n",
      "Epoch 19/30\n",
      "7352/7352 [==============================] - 33s 4ms/step - loss: 0.1405 - acc: 0.9482 - val_loss: 0.3388 - val_acc: 0.8890\n",
      "Epoch 20/30\n",
      "7352/7352 [==============================] - 34s 5ms/step - loss: 0.1345 - acc: 0.9482 - val_loss: 0.3057 - val_acc: 0.8951\n",
      "Epoch 21/30\n",
      "7352/7352 [==============================] - 38s 5ms/step - loss: 0.1528 - acc: 0.9392 - val_loss: 0.2849 - val_acc: 0.8985\n",
      "Epoch 22/30\n",
      "7352/7352 [==============================] - 36s 5ms/step - loss: 0.1700 - acc: 0.9384 - val_loss: 0.4183 - val_acc: 0.8653\n",
      "Epoch 23/30\n",
      "7352/7352 [==============================] - 35s 5ms/step - loss: 0.1809 - acc: 0.9392 - val_loss: 0.2890 - val_acc: 0.8999\n",
      "Epoch 24/30\n",
      "7352/7352 [==============================] - 33s 4ms/step - loss: 0.1420 - acc: 0.9495 - val_loss: 0.3001 - val_acc: 0.9013\n",
      "Epoch 25/30\n",
      "7352/7352 [==============================] - 34s 5ms/step - loss: 0.1316 - acc: 0.9480 - val_loss: 0.3034 - val_acc: 0.8955\n",
      "Epoch 26/30\n",
      "7352/7352 [==============================] - 37s 5ms/step - loss: 0.1239 - acc: 0.9499 - val_loss: 0.3022 - val_acc: 0.8921\n",
      "Epoch 27/30\n",
      "7352/7352 [==============================] - 38s 5ms/step - loss: 0.1284 - acc: 0.9514 - val_loss: 0.3270 - val_acc: 0.9030\n",
      "Epoch 28/30\n",
      "7352/7352 [==============================] - 37s 5ms/step - loss: 0.1212 - acc: 0.9538 - val_loss: 0.3031 - val_acc: 0.8962\n",
      "Epoch 29/30\n",
      "7352/7352 [==============================] - 37s 5ms/step - loss: 0.1236 - acc: 0.9502 - val_loss: 0.3125 - val_acc: 0.9030\n",
      "Epoch 30/30\n",
      "7352/7352 [==============================] - 37s 5ms/step - loss: 0.1199 - acc: 0.9521 - val_loss: 0.2894 - val_acc: 0.9091\n"
     ]
    }
   ],
   "source": [
    "# Training the model\n",
    "history = model.fit(X_train,\n",
    "          Y_train,\n",
    "          batch_size=batch_size,\n",
    "          validation_data=(X_test, Y_test),\n",
    "          epochs=epochs)"
   ]
  },
  {
   "cell_type": "code",
   "execution_count": 32,
   "metadata": {},
   "outputs": [
    {
     "data": {
      "image/png": "[encoded data removed]",
      "text/plain": [
       "<Figure size 432x288 with 1 Axes>"
      ]
     },
     "metadata": {},
     "output_type": "display_data"
    }
   ],
   "source": [
    "#plot train and validation loss for each epoch\n",
    "PlotLoss(history)"
   ]
  },
  {
   "cell_type": "code",
   "execution_count": 33,
   "metadata": {
    "scrolled": true
   },
   "outputs": [
    {
     "name": "stdout",
     "output_type": "stream",
     "text": [
      "Pred                LAYING  SITTING  STANDING  WALKING  WALKING_DOWNSTAIRS  \\\n",
      "True                                                                         \n",
      "LAYING                 528        0         8        0                   0   \n",
      "SITTING                  1      397        92        0                   0   \n",
      "STANDING                 0       87       445        0                   0   \n",
      "WALKING                  1        3         6      458                  25   \n",
      "WALKING_DOWNSTAIRS       0        0         0        3                 408   \n",
      "WALKING_UPSTAIRS         0        0         0       10                  18   \n",
      "\n",
      "Pred                WALKING_UPSTAIRS  \n",
      "True                                  \n",
      "LAYING                             1  \n",
      "SITTING                            1  \n",
      "STANDING                           0  \n",
      "WALKING                            3  \n",
      "WALKING_DOWNSTAIRS                 9  \n",
      "WALKING_UPSTAIRS                 443  \n"
     ]
    }
   ],
   "source": [
    "# Confusion Matrix\n",
    "print(confusion_matrix(Y_test, model.predict(X_test)))"
   ]
  },
  {
   "cell_type": "code",
   "execution_count": 34,
   "metadata": {},
   "outputs": [
    {
     "name": "stdout",
     "output_type": "stream",
     "text": [
      "2947/2947 [==============================] - 1s 435us/step\n"
     ]
    },
    {
     "data": {
      "text/plain": [
       "[0.2894006351718169, 0.9090600610790635]"
      ]
     },
     "execution_count": 34,
     "metadata": {},
     "output_type": "execute_result"
    }
   ],
   "source": [
    "score = model.evaluate(X_test, Y_test)\n",
    "score"
   ]
  },
  {
   "cell_type": "markdown",
   "metadata": {},
   "source": [
    "### 3.3 Let's test model with second best dropout rate = 0.4 since the we tested with dropout=0 which means no dropout"
   ]
  },
  {
   "cell_type": "code",
   "execution_count": 17,
   "metadata": {},
   "outputs": [],
   "source": [
    "epochs = 30\n",
    "batch_size = 16\n",
    "n_hidden = 32\n",
    "dropout_rate = 0.4"
   ]
  },
  {
   "cell_type": "code",
   "execution_count": 20,
   "metadata": {},
   "outputs": [
    {
     "name": "stdout",
     "output_type": "stream",
     "text": [
      "_________________________________________________________________\n",
      "Layer (type)                 Output Shape              Param #   \n",
      "=================================================================\n",
      "lstm_1 (LSTM)                (None, 32)                5376      \n",
      "_________________________________________________________________\n",
      "dropout_1 (Dropout)          (None, 32)                0         \n",
      "_________________________________________________________________\n",
      "dense_1 (Dense)              (None, 6)                 198       \n",
      "=================================================================\n",
      "Total params: 5,574\n",
      "Trainable params: 5,574\n",
      "Non-trainable params: 0\n",
      "_________________________________________________________________\n"
     ]
    }
   ],
   "source": [
    "# Initiliazing the sequential model\n",
    "model = Sequential()\n",
    "# Configuring the parameters\n",
    "model.add(LSTM(units = n_hidden, input_shape=(timesteps, input_dim)))\n",
    "# Adding a dropout layer\n",
    "model.add(Dropout(dropout_rate))\n",
    "# Adding a dense output layer with sigmoid activation\n",
    "model.add(Dense(n_classes, activation='sigmoid'))\n",
    "model.summary()"
   ]
  },
  {
   "cell_type": "code",
   "execution_count": 21,
   "metadata": {},
   "outputs": [],
   "source": [
    "# Compiling the model\n",
    "model.compile(loss='categorical_crossentropy',\n",
    "              optimizer='adam',\n",
    "              metrics=['accuracy'])"
   ]
  },
  {
   "cell_type": "markdown",
   "metadata": {},
   "source": [
    "### 3.4 Training the model with tuned hyper-parameters"
   ]
  },
  {
   "cell_type": "code",
   "execution_count": 22,
   "metadata": {},
   "outputs": [
    {
     "name": "stdout",
     "output_type": "stream",
     "text": [
      "Train on 7352 samples, validate on 2947 samples\n",
      "Epoch 1/30\n",
      "7352/7352 [==============================] - 64s 9ms/step - loss: 1.4165 - acc: 0.4112 - val_loss: 1.2770 - val_acc: 0.4381\n",
      "Epoch 2/30\n",
      "7352/7352 [==============================] - 60s 8ms/step - loss: 1.1939 - acc: 0.4679 - val_loss: 1.2056 - val_acc: 0.4510\n",
      "Epoch 3/30\n",
      "7352/7352 [==============================] - 59s 8ms/step - loss: 1.1167 - acc: 0.5297 - val_loss: 1.0848 - val_acc: 0.5504\n",
      "Epoch 4/30\n",
      "7352/7352 [==============================] - 59s 8ms/step - loss: 0.9044 - acc: 0.5809 - val_loss: 0.8192 - val_acc: 0.5819\n",
      "Epoch 5/30\n",
      "7352/7352 [==============================] - 75s 10ms/step - loss: 0.8711 - acc: 0.5786 - val_loss: 0.8907 - val_acc: 0.5572\n",
      "Epoch 6/30\n",
      "7352/7352 [==============================] - 76s 10ms/step - loss: 0.8376 - acc: 0.5722 - val_loss: 0.8900 - val_acc: 0.6074\n",
      "Epoch 7/30\n",
      "7352/7352 [==============================] - 62s 8ms/step - loss: 0.7950 - acc: 0.6046 - val_loss: 0.8063 - val_acc: 0.6016\n",
      "Epoch 8/30\n",
      "7352/7352 [==============================] - 62s 8ms/step - loss: 0.7985 - acc: 0.6159 - val_loss: 0.7766 - val_acc: 0.6539\n",
      "Epoch 9/30\n",
      "7352/7352 [==============================] - 62s 8ms/step - loss: 0.7340 - acc: 0.6517 - val_loss: 0.7439 - val_acc: 0.6362\n",
      "Epoch 10/30\n",
      "7352/7352 [==============================] - 64s 9ms/step - loss: 0.6713 - acc: 0.6862 - val_loss: 0.7270 - val_acc: 0.6671\n",
      "Epoch 11/30\n",
      "7352/7352 [==============================] - 63s 9ms/step - loss: 0.7065 - acc: 0.6650 - val_loss: 0.7262 - val_acc: 0.6780\n",
      "Epoch 12/30\n",
      "7352/7352 [==============================] - 63s 9ms/step - loss: 0.6956 - acc: 0.6793 - val_loss: 0.7903 - val_acc: 0.6688\n",
      "Epoch 13/30\n",
      "7352/7352 [==============================] - 62s 8ms/step - loss: 0.7080 - acc: 0.6766 - val_loss: 0.7372 - val_acc: 0.6630\n",
      "Epoch 14/30\n",
      "7352/7352 [==============================] - 62s 8ms/step - loss: 0.6906 - acc: 0.6813 - val_loss: 0.7412 - val_acc: 0.6695\n",
      "Epoch 15/30\n",
      "7352/7352 [==============================] - 63s 9ms/step - loss: 0.6926 - acc: 0.6937 - val_loss: 0.7728 - val_acc: 0.6312\n",
      "Epoch 16/30\n",
      "7352/7352 [==============================] - 66s 9ms/step - loss: 0.6396 - acc: 0.7191 - val_loss: 0.7247 - val_acc: 0.6766\n",
      "Epoch 17/30\n",
      "7352/7352 [==============================] - 63s 9ms/step - loss: 0.5928 - acc: 0.7500 - val_loss: 0.6566 - val_acc: 0.7027\n",
      "Epoch 18/30\n",
      "7352/7352 [==============================] - 61s 8ms/step - loss: 0.5559 - acc: 0.7730 - val_loss: 0.6476 - val_acc: 0.7095\n",
      "Epoch 19/30\n",
      "7352/7352 [==============================] - 64s 9ms/step - loss: 0.5027 - acc: 0.7958 - val_loss: 0.6540 - val_acc: 0.7455\n",
      "Epoch 20/30\n",
      "7352/7352 [==============================] - 64s 9ms/step - loss: 0.4604 - acc: 0.8361 - val_loss: 0.6000 - val_acc: 0.7682\n",
      "Epoch 21/30\n",
      "7352/7352 [==============================] - 63s 9ms/step - loss: 0.3913 - acc: 0.8652 - val_loss: 0.6038 - val_acc: 0.7465\n",
      "Epoch 22/30\n",
      "7352/7352 [==============================] - 64s 9ms/step - loss: 0.4645 - acc: 0.8368 - val_loss: 0.5683 - val_acc: 0.8110\n",
      "Epoch 23/30\n",
      "7352/7352 [==============================] - 61s 8ms/step - loss: 0.3542 - acc: 0.8928 - val_loss: 0.5283 - val_acc: 0.8259\n",
      "Epoch 24/30\n",
      "7352/7352 [==============================] - 62s 8ms/step - loss: 0.4095 - acc: 0.8668 - val_loss: 0.5235 - val_acc: 0.8120\n",
      "Epoch 25/30\n",
      "7352/7352 [==============================] - 64s 9ms/step - loss: 0.3193 - acc: 0.9003 - val_loss: 0.4616 - val_acc: 0.8585\n",
      "Epoch 26/30\n",
      "7352/7352 [==============================] - 66s 9ms/step - loss: 0.3164 - acc: 0.8916 - val_loss: 0.4723 - val_acc: 0.8273\n",
      "Epoch 27/30\n",
      "7352/7352 [==============================] - 64s 9ms/step - loss: 0.2484 - acc: 0.9223 - val_loss: 0.3410 - val_acc: 0.8778\n",
      "Epoch 28/30\n",
      "7352/7352 [==============================] - 64s 9ms/step - loss: 0.2509 - acc: 0.9233 - val_loss: 0.4618 - val_acc: 0.8395\n",
      "Epoch 29/30\n",
      "7352/7352 [==============================] - 68s 9ms/step - loss: 0.2176 - acc: 0.9290 - val_loss: 0.3143 - val_acc: 0.8741\n",
      "Epoch 30/30\n",
      "7352/7352 [==============================] - 65s 9ms/step - loss: 0.2683 - acc: 0.9140 - val_loss: 0.4949 - val_acc: 0.8415\n"
     ]
    }
   ],
   "source": [
    "# Training the model\n",
    "history = model.fit(X_train,\n",
    "          Y_train,\n",
    "          batch_size=batch_size,\n",
    "          validation_data=(X_test, Y_test),\n",
    "          epochs=epochs)"
   ]
  },
  {
   "cell_type": "code",
   "execution_count": 23,
   "metadata": {},
   "outputs": [
    {
     "data": {
      "image/png": "[encoded data removed]",
      "text/plain": [
       "<Figure size 432x288 with 1 Axes>"
      ]
     },
     "metadata": {},
     "output_type": "display_data"
    }
   ],
   "source": [
    "#plot train and validation loss for each epoch\n",
    "PlotLoss(history)"
   ]
  },
  {
   "cell_type": "code",
   "execution_count": 24,
   "metadata": {
    "scrolled": true
   },
   "outputs": [
    {
     "name": "stdout",
     "output_type": "stream",
     "text": [
      "Pred                LAYING  SITTING  STANDING  WALKING  WALKING_DOWNSTAIRS  \\\n",
      "True                                                                         \n",
      "LAYING                 510        0         0        0                   0   \n",
      "SITTING                  0      372        95        1                   0   \n",
      "STANDING                 0      102       414        0                   0   \n",
      "WALKING                  0        0         0      406                  58   \n",
      "WALKING_DOWNSTAIRS       0        2         1       26                 378   \n",
      "WALKING_UPSTAIRS         0        1         0       22                  48   \n",
      "\n",
      "Pred                WALKING_UPSTAIRS  \n",
      "True                                  \n",
      "LAYING                            27  \n",
      "SITTING                           23  \n",
      "STANDING                          16  \n",
      "WALKING                           32  \n",
      "WALKING_DOWNSTAIRS                13  \n",
      "WALKING_UPSTAIRS                 400  \n"
     ]
    }
   ],
   "source": [
    "# Confusion Matrix\n",
    "print(confusion_matrix(Y_test, model.predict(X_test)))"
   ]
  },
  {
   "cell_type": "code",
   "execution_count": 25,
   "metadata": {},
   "outputs": [
    {
     "name": "stdout",
     "output_type": "stream",
     "text": [
      "2947/2947 [==============================] - 2s 814us/step\n"
     ]
    },
    {
     "data": {
      "text/plain": [
       "[0.49494662675608364, 0.841533763148965]"
      ]
     },
     "execution_count": 25,
     "metadata": {},
     "output_type": "execute_result"
    }
   ],
   "source": [
    "score = model.evaluate(X_test, Y_test)\n",
    "score"
   ]
  },
  {
   "cell_type": "markdown",
   "metadata": {},
   "source": [
    "## 4.1 Using 2 layer LSTM"
   ]
  },
  {
   "cell_type": "code",
   "execution_count": 27,
   "metadata": {},
   "outputs": [],
   "source": [
    "epochs = 30\n",
    "batch_size = 16\n",
    "n_hidden = 32"
   ]
  },
  {
   "cell_type": "code",
   "execution_count": 28,
   "metadata": {},
   "outputs": [
    {
     "name": "stdout",
     "output_type": "stream",
     "text": [
      "_________________________________________________________________\n",
      "Layer (type)                 Output Shape              Param #   \n",
      "=================================================================\n",
      "lstm_2 (LSTM)                (None, 128, 32)           5376      \n",
      "_________________________________________________________________\n",
      "dropout_2 (Dropout)          (None, 128, 32)           0         \n",
      "_________________________________________________________________\n",
      "lstm_3 (LSTM)                (None, 32)                8320      \n",
      "_________________________________________________________________\n",
      "dropout_3 (Dropout)          (None, 32)                0         \n",
      "_________________________________________________________________\n",
      "dense_2 (Dense)              (None, 6)                 198       \n",
      "=================================================================\n",
      "Total params: 13,894\n",
      "Trainable params: 13,894\n",
      "Non-trainable params: 0\n",
      "_________________________________________________________________\n"
     ]
    }
   ],
   "source": [
    "# Initiliazing the sequential model\n",
    "model = Sequential()\n",
    "# Configuring the parameters\n",
    "model.add(LSTM(units = n_hidden, input_shape=(timesteps, input_dim), return_sequences=True))\n",
    "# Adding dropout layer\n",
    "model.add(Dropout(0.7)) #using high dropout for multi-layer LSTM\n",
    "model.add(LSTM(units = n_hidden, return_sequences=False))\n",
    "# Adding dropout layer\n",
    "model.add(Dropout(0.7))#using high dropout for multi-layer LSTM\n",
    "# Adding a dense output layer with sigmoid activation\n",
    "model.add(Dense(n_classes, activation='sigmoid'))\n",
    "model.summary()"
   ]
  },
  {
   "cell_type": "code",
   "execution_count": 29,
   "metadata": {},
   "outputs": [],
   "source": [
    "# Compiling the model\n",
    "model.compile(loss='categorical_crossentropy',\n",
    "              optimizer='rmsprop',\n",
    "              metrics=['accuracy'])"
   ]
  },
  {
   "cell_type": "markdown",
   "metadata": {},
   "source": [
    "### 4.2 Training the model with tuned hyper-parameters"
   ]
  },
  {
   "cell_type": "code",
   "execution_count": 30,
   "metadata": {},
   "outputs": [
    {
     "name": "stdout",
     "output_type": "stream",
     "text": [
      "Train on 7352 samples, validate on 2947 samples\n",
      "Epoch 1/30\n",
      "7352/7352 [==============================] - 160s 22ms/step - loss: 1.2779 - acc: 0.4819 - val_loss: 0.9117 - val_acc: 0.6732\n",
      "Epoch 2/30\n",
      "7352/7352 [==============================] - 138s 19ms/step - loss: 0.8940 - acc: 0.6162 - val_loss: 1.0816 - val_acc: 0.5721\n",
      "Epoch 3/30\n",
      "7352/7352 [==============================] - 141s 19ms/step - loss: 0.7768 - acc: 0.6655 - val_loss: 0.7062 - val_acc: 0.6491\n",
      "Epoch 4/30\n",
      "7352/7352 [==============================] - 146s 20ms/step - loss: 0.7394 - acc: 0.6838 - val_loss: 0.7680 - val_acc: 0.6946\n",
      "Epoch 5/30\n",
      "7352/7352 [==============================] - 141s 19ms/step - loss: 0.6738 - acc: 0.7218 - val_loss: 0.7396 - val_acc: 0.7285\n",
      "Epoch 6/30\n",
      "7352/7352 [==============================] - 144s 20ms/step - loss: 0.6109 - acc: 0.7571 - val_loss: 0.6059 - val_acc: 0.7397\n",
      "Epoch 7/30\n",
      "7352/7352 [==============================] - 138s 19ms/step - loss: 0.5164 - acc: 0.7890 - val_loss: 0.6309 - val_acc: 0.7615\n",
      "Epoch 8/30\n",
      "7352/7352 [==============================] - 137s 19ms/step - loss: 0.4723 - acc: 0.8100 - val_loss: 0.5821 - val_acc: 0.8439\n",
      "Epoch 9/30\n",
      "7352/7352 [==============================] - 139s 19ms/step - loss: 0.4392 - acc: 0.8505 - val_loss: 0.5636 - val_acc: 0.8283\n",
      "Epoch 10/30\n",
      "7352/7352 [==============================] - 140s 19ms/step - loss: 0.3924 - acc: 0.8867 - val_loss: 0.4904 - val_acc: 0.8554\n",
      "Epoch 11/30\n",
      "7352/7352 [==============================] - 137s 19ms/step - loss: 0.3104 - acc: 0.9117 - val_loss: 0.5388 - val_acc: 0.8653\n",
      "Epoch 12/30\n",
      "7352/7352 [==============================] - 141s 19ms/step - loss: 0.2899 - acc: 0.9178 - val_loss: 0.4911 - val_acc: 0.8856\n",
      "Epoch 13/30\n",
      "7352/7352 [==============================] - 137s 19ms/step - loss: 0.2724 - acc: 0.9206 - val_loss: 0.5812 - val_acc: 0.8670\n",
      "Epoch 14/30\n",
      "7352/7352 [==============================] - 136s 19ms/step - loss: 0.2681 - acc: 0.9172 - val_loss: 0.4982 - val_acc: 0.8772\n",
      "Epoch 15/30\n",
      "7352/7352 [==============================] - 139s 19ms/step - loss: 0.2497 - acc: 0.9234 - val_loss: 0.4967 - val_acc: 0.8880\n",
      "Epoch 16/30\n",
      "7352/7352 [==============================] - 141s 19ms/step - loss: 0.2532 - acc: 0.9223 - val_loss: 0.5001 - val_acc: 0.8921\n",
      "Epoch 17/30\n",
      "7352/7352 [==============================] - 141s 19ms/step - loss: 0.2349 - acc: 0.9306 - val_loss: 0.6759 - val_acc: 0.8728\n",
      "Epoch 18/30\n",
      "7352/7352 [==============================] - 138s 19ms/step - loss: 0.2419 - acc: 0.9316 - val_loss: 0.5130 - val_acc: 0.8979\n",
      "Epoch 19/30\n",
      "7352/7352 [==============================] - 137s 19ms/step - loss: 0.2407 - acc: 0.9313 - val_loss: 0.4603 - val_acc: 0.9067\n",
      "Epoch 20/30\n",
      "7352/7352 [==============================] - 136s 18ms/step - loss: 0.2351 - acc: 0.9275 - val_loss: 0.4636 - val_acc: 0.8894\n",
      "Epoch 21/30\n",
      "7352/7352 [==============================] - 140s 19ms/step - loss: 0.2276 - acc: 0.9344 - val_loss: 0.5420 - val_acc: 0.8812\n",
      "Epoch 22/30\n",
      "7352/7352 [==============================] - 137s 19ms/step - loss: 0.2353 - acc: 0.9302 - val_loss: 0.4875 - val_acc: 0.8951\n",
      "Epoch 23/30\n",
      "7352/7352 [==============================] - 143s 19ms/step - loss: 0.2271 - acc: 0.9314 - val_loss: 0.4238 - val_acc: 0.9019\n",
      "Epoch 24/30\n",
      "7352/7352 [==============================] - 145s 20ms/step - loss: 0.2173 - acc: 0.9317 - val_loss: 0.4698 - val_acc: 0.8850\n",
      "Epoch 25/30\n",
      "7352/7352 [==============================] - 137s 19ms/step - loss: 0.2096 - acc: 0.9342 - val_loss: 0.4602 - val_acc: 0.8921\n",
      "Epoch 26/30\n",
      "7352/7352 [==============================] - 140s 19ms/step - loss: 0.2109 - acc: 0.9382 - val_loss: 0.5271 - val_acc: 0.8860\n",
      "Epoch 27/30\n",
      "7352/7352 [==============================] - 136s 18ms/step - loss: 0.2067 - acc: 0.9385 - val_loss: 0.5699 - val_acc: 0.8958\n",
      "Epoch 28/30\n",
      "7352/7352 [==============================] - 141s 19ms/step - loss: 0.2233 - acc: 0.9308 - val_loss: 0.4484 - val_acc: 0.9009\n",
      "Epoch 29/30\n",
      "7352/7352 [==============================] - 135s 18ms/step - loss: 0.1995 - acc: 0.9348 - val_loss: 0.4681 - val_acc: 0.8972\n",
      "Epoch 30/30\n",
      "7352/7352 [==============================] - 140s 19ms/step - loss: 0.2018 - acc: 0.9363 - val_loss: 0.4467 - val_acc: 0.9067\n"
     ]
    }
   ],
   "source": [
    "# Training the model\n",
    "history = model.fit(X_train,\n",
    "          Y_train,\n",
    "          batch_size=batch_size,\n",
    "          validation_data=(X_test, Y_test),\n",
    "          epochs=epochs)"
   ]
  },
  {
   "cell_type": "code",
   "execution_count": 31,
   "metadata": {},
   "outputs": [
    {
     "data": {
      "image/png": "[encoded data removed]",
      "text/plain": [
       "<Figure size 432x288 with 1 Axes>"
      ]
     },
     "metadata": {},
     "output_type": "display_data"
    }
   ],
   "source": [
    "#plot train and validation loss for each epoch\n",
    "PlotLoss(history)"
   ]
  },
  {
   "cell_type": "code",
   "execution_count": 32,
   "metadata": {},
   "outputs": [
    {
     "name": "stdout",
     "output_type": "stream",
     "text": [
      "Pred                LAYING  SITTING  STANDING  WALKING  WALKING_DOWNSTAIRS  \\\n",
      "True                                                                         \n",
      "LAYING                 510        0        26        0                   0   \n",
      "SITTING                  0      416        71        2                   0   \n",
      "STANDING                 0       94       437        1                   0   \n",
      "WALKING                  0        0         8      461                   0   \n",
      "WALKING_DOWNSTAIRS       0        0         0       14                 404   \n",
      "WALKING_UPSTAIRS         0        0         0       27                   0   \n",
      "\n",
      "Pred                WALKING_UPSTAIRS  \n",
      "True                                  \n",
      "LAYING                             1  \n",
      "SITTING                            2  \n",
      "STANDING                           0  \n",
      "WALKING                           27  \n",
      "WALKING_DOWNSTAIRS                 2  \n",
      "WALKING_UPSTAIRS                 444  \n"
     ]
    }
   ],
   "source": [
    "# Confusion Matrix\n",
    "print(confusion_matrix(Y_test, model.predict(X_test)))"
   ]
  },
  {
   "cell_type": "code",
   "execution_count": 33,
   "metadata": {},
   "outputs": [
    {
     "name": "stdout",
     "output_type": "stream",
     "text": [
      "2947/2947 [==============================] - 6s 2ms/step\n"
     ]
    },
    {
     "data": {
      "text/plain": [
       "[0.44670626869502744, 0.9066847641669494]"
      ]
     },
     "execution_count": 33,
     "metadata": {},
     "output_type": "execute_result"
    }
   ],
   "source": [
    "score = model.evaluate(X_test, Y_test)\n",
    "score"
   ]
  },
  {
   "cell_type": "markdown",
   "metadata": {},
   "source": [
    "### 4.3 Check 2-Layer LSTM with dropout 0.5"
   ]
  },
  {
   "cell_type": "code",
   "execution_count": 35,
   "metadata": {},
   "outputs": [
    {
     "name": "stdout",
     "output_type": "stream",
     "text": [
      "_________________________________________________________________\n",
      "Layer (type)                 Output Shape              Param #   \n",
      "=================================================================\n",
      "lstm_4 (LSTM)                (None, 128, 32)           5376      \n",
      "_________________________________________________________________\n",
      "dropout_4 (Dropout)          (None, 128, 32)           0         \n",
      "_________________________________________________________________\n",
      "lstm_5 (LSTM)                (None, 32)                8320      \n",
      "_________________________________________________________________\n",
      "dropout_5 (Dropout)          (None, 32)                0         \n",
      "_________________________________________________________________\n",
      "dense_3 (Dense)              (None, 6)                 198       \n",
      "=================================================================\n",
      "Total params: 13,894\n",
      "Trainable params: 13,894\n",
      "Non-trainable params: 0\n",
      "_________________________________________________________________\n"
     ]
    }
   ],
   "source": [
    "# Initiliazing the sequential model\n",
    "model = Sequential()\n",
    "# Configuring the parameters\n",
    "model.add(LSTM(units = n_hidden, input_shape=(timesteps, input_dim), return_sequences=True))\n",
    "# Adding a dropout layer\n",
    "model.add(Dropout(0.5))\n",
    "model.add(LSTM(units = n_hidden, return_sequences=False))\n",
    "model.add(Dropout(0.5))\n",
    "# Adding a dense output layer with sigmoid activation\n",
    "model.add(Dense(n_classes, activation='sigmoid'))\n",
    "model.summary()"
   ]
  },
  {
   "cell_type": "code",
   "execution_count": 36,
   "metadata": {},
   "outputs": [],
   "source": [
    "# Compiling the model\n",
    "model.compile(loss='categorical_crossentropy',\n",
    "              optimizer='rmsprop',\n",
    "              metrics=['accuracy'])"
   ]
  },
  {
   "cell_type": "markdown",
   "metadata": {},
   "source": [
    "### 4.4 Training the model with tuned hyper-parameters"
   ]
  },
  {
   "cell_type": "code",
   "execution_count": 37,
   "metadata": {},
   "outputs": [
    {
     "name": "stdout",
     "output_type": "stream",
     "text": [
      "Train on 7352 samples, validate on 2947 samples\n",
      "Epoch 1/30\n",
      "7352/7352 [==============================] - 144s 20ms/step - loss: 1.1797 - acc: 0.4864 - val_loss: 0.8961 - val_acc: 0.6478\n",
      "Epoch 2/30\n",
      "7352/7352 [==============================] - 133s 18ms/step - loss: 0.8111 - acc: 0.6315 - val_loss: 0.7868 - val_acc: 0.6888\n",
      "Epoch 3/30\n",
      "7352/7352 [==============================] - 142s 19ms/step - loss: 0.6812 - acc: 0.6961 - val_loss: 0.6771 - val_acc: 0.7224\n",
      "Epoch 4/30\n",
      "7352/7352 [==============================] - 131s 18ms/step - loss: 0.5615 - acc: 0.7612 - val_loss: 0.6316 - val_acc: 0.7245\n",
      "Epoch 5/30\n",
      "7352/7352 [==============================] - 94s 13ms/step - loss: 0.4945 - acc: 0.7802 - val_loss: 0.5294 - val_acc: 0.7574\n",
      "Epoch 6/30\n",
      "7352/7352 [==============================] - 72s 10ms/step - loss: 0.4047 - acc: 0.8132 - val_loss: 0.7037 - val_acc: 0.7404\n",
      "Epoch 7/30\n",
      "7352/7352 [==============================] - 73s 10ms/step - loss: 0.3696 - acc: 0.8517 - val_loss: 0.5196 - val_acc: 0.8392\n",
      "Epoch 8/30\n",
      "7352/7352 [==============================] - 75s 10ms/step - loss: 0.3218 - acc: 0.8988 - val_loss: 0.5114 - val_acc: 0.8683\n",
      "Epoch 9/30\n",
      "7352/7352 [==============================] - 66s 9ms/step - loss: 0.2870 - acc: 0.9184 - val_loss: 0.4163 - val_acc: 0.8683\n",
      "Epoch 10/30\n",
      "7352/7352 [==============================] - 68s 9ms/step - loss: 0.2427 - acc: 0.9275 - val_loss: 0.6208 - val_acc: 0.8524\n",
      "Epoch 11/30\n",
      "7352/7352 [==============================] - 64s 9ms/step - loss: 0.2383 - acc: 0.9339 - val_loss: 0.5597 - val_acc: 0.8714\n",
      "Epoch 12/30\n",
      "7352/7352 [==============================] - 71s 10ms/step - loss: 0.2113 - acc: 0.9344 - val_loss: 0.4254 - val_acc: 0.9009\n",
      "Epoch 13/30\n",
      "7352/7352 [==============================] - 74s 10ms/step - loss: 0.1899 - acc: 0.9391 - val_loss: 0.4243 - val_acc: 0.8846\n",
      "Epoch 14/30\n",
      "7352/7352 [==============================] - 70s 9ms/step - loss: 0.1688 - acc: 0.9410 - val_loss: 0.5513 - val_acc: 0.8938\n",
      "Epoch 15/30\n",
      "7352/7352 [==============================] - 69s 9ms/step - loss: 0.1689 - acc: 0.9459 - val_loss: 0.3953 - val_acc: 0.8985\n",
      "Epoch 16/30\n",
      "7352/7352 [==============================] - 69s 9ms/step - loss: 0.1685 - acc: 0.9434 - val_loss: 0.4044 - val_acc: 0.8918\n",
      "Epoch 17/30\n",
      "7352/7352 [==============================] - 66s 9ms/step - loss: 0.1710 - acc: 0.9425 - val_loss: 0.5324 - val_acc: 0.8860\n",
      "Epoch 18/30\n",
      "7352/7352 [==============================] - 64s 9ms/step - loss: 0.1677 - acc: 0.9448 - val_loss: 0.3785 - val_acc: 0.9019\n",
      "Epoch 19/30\n",
      "7352/7352 [==============================] - 67s 9ms/step - loss: 0.1577 - acc: 0.9480 - val_loss: 0.4100 - val_acc: 0.8945\n",
      "Epoch 20/30\n",
      "7352/7352 [==============================] - 65s 9ms/step - loss: 0.1545 - acc: 0.9472 - val_loss: 0.4118 - val_acc: 0.8985\n",
      "Epoch 21/30\n",
      "7352/7352 [==============================] - 69s 9ms/step - loss: 0.1449 - acc: 0.9480 - val_loss: 0.4938 - val_acc: 0.8938\n",
      "Epoch 22/30\n",
      "7352/7352 [==============================] - 68s 9ms/step - loss: 0.1332 - acc: 0.9527 - val_loss: 0.3167 - val_acc: 0.9087\n",
      "Epoch 23/30\n",
      "7352/7352 [==============================] - 69s 9ms/step - loss: 0.1479 - acc: 0.9494 - val_loss: 0.4135 - val_acc: 0.9070\n",
      "Epoch 24/30\n",
      "7352/7352 [==============================] - 67s 9ms/step - loss: 0.1489 - acc: 0.9505 - val_loss: 0.4672 - val_acc: 0.9091\n",
      "Epoch 25/30\n",
      "7352/7352 [==============================] - 63s 9ms/step - loss: 0.1659 - acc: 0.9464 - val_loss: 0.4163 - val_acc: 0.8975\n",
      "Epoch 26/30\n",
      "7352/7352 [==============================] - 67s 9ms/step - loss: 0.1515 - acc: 0.9512 - val_loss: 0.4489 - val_acc: 0.8951\n",
      "Epoch 27/30\n",
      "7352/7352 [==============================] - 68s 9ms/step - loss: 0.1435 - acc: 0.9504 - val_loss: 0.5367 - val_acc: 0.8918\n",
      "Epoch 28/30\n",
      "7352/7352 [==============================] - 66s 9ms/step - loss: 0.1439 - acc: 0.9539 - val_loss: 0.4255 - val_acc: 0.9040\n",
      "Epoch 29/30\n",
      "7352/7352 [==============================] - 66s 9ms/step - loss: 0.1302 - acc: 0.9542 - val_loss: 0.4156 - val_acc: 0.9016\n",
      "Epoch 30/30\n",
      "7352/7352 [==============================] - 66s 9ms/step - loss: 0.1389 - acc: 0.9516 - val_loss: 0.4617 - val_acc: 0.8945\n"
     ]
    }
   ],
   "source": [
    "# Training the model\n",
    "history = model.fit(X_train,\n",
    "          Y_train,\n",
    "          batch_size=batch_size,\n",
    "          validation_data=(X_test, Y_test),\n",
    "          epochs=epochs)"
   ]
  },
  {
   "cell_type": "code",
   "execution_count": 38,
   "metadata": {},
   "outputs": [
    {
     "data": {
      "image/png": "[encoded data removed]",
      "text/plain": [
       "<Figure size 432x288 with 1 Axes>"
      ]
     },
     "metadata": {},
     "output_type": "display_data"
    }
   ],
   "source": [
    "#plot train and validation loss for each epoch\n",
    "PlotLoss(history)"
   ]
  },
  {
   "cell_type": "code",
   "execution_count": 39,
   "metadata": {},
   "outputs": [
    {
     "name": "stdout",
     "output_type": "stream",
     "text": [
      "Pred                LAYING  SITTING  STANDING  WALKING  WALKING_DOWNSTAIRS  \\\n",
      "True                                                                         \n",
      "LAYING                 511        0         0        0                   0   \n",
      "SITTING                  6      419        48        0                   0   \n",
      "STANDING                 0      119       385        1                   0   \n",
      "WALKING                  0        0         0      446                   2   \n",
      "WALKING_DOWNSTAIRS       0        0         0        0                 408   \n",
      "WALKING_UPSTAIRS         0        0         0        4                   0   \n",
      "\n",
      "Pred                WALKING_UPSTAIRS  \n",
      "True                                  \n",
      "LAYING                            26  \n",
      "SITTING                           18  \n",
      "STANDING                          27  \n",
      "WALKING                           48  \n",
      "WALKING_DOWNSTAIRS                12  \n",
      "WALKING_UPSTAIRS                 467  \n"
     ]
    }
   ],
   "source": [
    "# Confusion Matrix\n",
    "print(confusion_matrix(Y_test, model.predict(X_test)))"
   ]
  },
  {
   "cell_type": "code",
   "execution_count": 40,
   "metadata": {},
   "outputs": [
    {
     "name": "stdout",
     "output_type": "stream",
     "text": [
      "2947/2947 [==============================] - 3s 1ms/step\n"
     ]
    },
    {
     "data": {
      "text/plain": [
       "[0.4617388741920498, 0.8944689514760774]"
      ]
     },
     "execution_count": 40,
     "metadata": {},
     "output_type": "execute_result"
    }
   ],
   "source": [
    "score = model.evaluate(X_test, Y_test)\n",
    "score"
   ]
  },
  {
   "cell_type": "markdown",
   "metadata": {},
   "source": [
    "# Summary"
   ]
  },
  {
   "cell_type": "code",
   "execution_count": 3,
   "metadata": {},
   "outputs": [
    {
     "name": "stdout",
     "output_type": "stream",
     "text": [
      "Results of 1 layer LSTM\n",
      "+--------+------------+--------------+---------+-------+----------+\n",
      "| Epochs | Batch Size | Hidden Units | Dropout |  Loss | Accuracy |\n",
      "+--------+------------+--------------+---------+-------+----------+\n",
      "|   30   |     16     |      32      |   0.5   | 0.308 |  0.909   |\n",
      "|   30   |     16     |      64      |   0.5   | 0.376 |  0.896   |\n",
      "|   30   |     16     |      32      |    0    | 0.289 |  0.909   |\n",
      "|   30   |     16     |      32      |   0.4   | 0.494 |  0.841   |\n",
      "+--------+------------+--------------+---------+-------+----------+\n"
     ]
    }
   ],
   "source": [
    "x = PrettyTable()\n",
    "#print details of single layer LSTM\n",
    "x.field_names = [\"Epochs\",\"Batch Size\",\"Hidden Units\",\"Dropout\", \"Loss\", \"Accuracy\"]\n",
    "x.add_row([30,16,32,0.5,0.308, 0.909])\n",
    "x.add_row([30,16,64,0.5,0.376, 0.896])\n",
    "x.add_row([30,16,32,0,0.289, 0.909])\n",
    "x.add_row([30,16,32,0.4,0.494, 0.841])\n",
    "print(\"Results of 1 layer LSTM\")\n",
    "print(x)"
   ]
  },
  {
   "cell_type": "markdown",
   "metadata": {},
   "source": [
    "#### <u>Observation</u>: While tuning the drop-out rate to 0, we were able to decrease the loss"
   ]
  },
  {
   "cell_type": "code",
   "execution_count": 41,
   "metadata": {},
   "outputs": [
    {
     "name": "stdout",
     "output_type": "stream",
     "text": [
      "Results of 2 layer LSTM\n",
      "+--------+--------+------------+--------------+---------+-------+----------+\n",
      "| Epochs | Layers | Batch Size | Hidden Units | Dropout |  Loss | Accuracy |\n",
      "+--------+--------+------------+--------------+---------+-------+----------+\n",
      "|   30   |   2    |     16     |      32      |   0.7   | 0.446 |  0.906   |\n",
      "|   30   |   2    |     16     |      32      |   0.5   | 0.461 |  0.894   |\n",
      "+--------+--------+------------+--------------+---------+-------+----------+\n"
     ]
    }
   ],
   "source": [
    "x = PrettyTable()\n",
    "#print details of 2 layer LSTM\n",
    "x.field_names = [\"Epochs\",\"Layers\",\"Batch Size\",\"Hidden Units\",\"Dropout\", \"Loss\", \"Accuracy\"]\n",
    "x.add_row([30,2,16,32,0.7,0.446, 0.906])\n",
    "x.add_row([30,2,16,32,0.5,0.461, 0.894])\n",
    "print(\"Results of 2 layer LSTM\")\n",
    "print(x)"
   ]
  }
 ],
 "metadata": {
  "kernelspec": {
   "display_name": "Python 3",
   "language": "python",
   "name": "python3"
  },
  "language_info": {
   "codemirror_mode": {
    "name": "ipython",
    "version": 3
   },
   "file_extension": ".py",
   "mimetype": "text/x-python",
   "name": "python",
   "nbconvert_exporter": "python",
   "pygments_lexer": "ipython3",
   "version": "3.7.3"
  }
 },
 "nbformat": 4,
 "nbformat_minor": 2
}
